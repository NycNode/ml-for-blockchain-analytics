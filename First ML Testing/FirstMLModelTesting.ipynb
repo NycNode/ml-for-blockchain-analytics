{
 "cells": [
  {
   "cell_type": "code",
   "execution_count": 15,
   "id": "0bd38e35",
   "metadata": {},
   "outputs": [
    {
     "data": {
      "text/html": [
       "<style>#sk-container-id-2 {color: black;}#sk-container-id-2 pre{padding: 0;}#sk-container-id-2 div.sk-toggleable {background-color: white;}#sk-container-id-2 label.sk-toggleable__label {cursor: pointer;display: block;width: 100%;margin-bottom: 0;padding: 0.3em;box-sizing: border-box;text-align: center;}#sk-container-id-2 label.sk-toggleable__label-arrow:before {content: \"▸\";float: left;margin-right: 0.25em;color: #696969;}#sk-container-id-2 label.sk-toggleable__label-arrow:hover:before {color: black;}#sk-container-id-2 div.sk-estimator:hover label.sk-toggleable__label-arrow:before {color: black;}#sk-container-id-2 div.sk-toggleable__content {max-height: 0;max-width: 0;overflow: hidden;text-align: left;background-color: #f0f8ff;}#sk-container-id-2 div.sk-toggleable__content pre {margin: 0.2em;color: black;border-radius: 0.25em;background-color: #f0f8ff;}#sk-container-id-2 input.sk-toggleable__control:checked~div.sk-toggleable__content {max-height: 200px;max-width: 100%;overflow: auto;}#sk-container-id-2 input.sk-toggleable__control:checked~label.sk-toggleable__label-arrow:before {content: \"▾\";}#sk-container-id-2 div.sk-estimator input.sk-toggleable__control:checked~label.sk-toggleable__label {background-color: #d4ebff;}#sk-container-id-2 div.sk-label input.sk-toggleable__control:checked~label.sk-toggleable__label {background-color: #d4ebff;}#sk-container-id-2 input.sk-hidden--visually {border: 0;clip: rect(1px 1px 1px 1px);clip: rect(1px, 1px, 1px, 1px);height: 1px;margin: -1px;overflow: hidden;padding: 0;position: absolute;width: 1px;}#sk-container-id-2 div.sk-estimator {font-family: monospace;background-color: #f0f8ff;border: 1px dotted black;border-radius: 0.25em;box-sizing: border-box;margin-bottom: 0.5em;}#sk-container-id-2 div.sk-estimator:hover {background-color: #d4ebff;}#sk-container-id-2 div.sk-parallel-item::after {content: \"\";width: 100%;border-bottom: 1px solid gray;flex-grow: 1;}#sk-container-id-2 div.sk-label:hover label.sk-toggleable__label {background-color: #d4ebff;}#sk-container-id-2 div.sk-serial::before {content: \"\";position: absolute;border-left: 1px solid gray;box-sizing: border-box;top: 0;bottom: 0;left: 50%;z-index: 0;}#sk-container-id-2 div.sk-serial {display: flex;flex-direction: column;align-items: center;background-color: white;padding-right: 0.2em;padding-left: 0.2em;position: relative;}#sk-container-id-2 div.sk-item {position: relative;z-index: 1;}#sk-container-id-2 div.sk-parallel {display: flex;align-items: stretch;justify-content: center;background-color: white;position: relative;}#sk-container-id-2 div.sk-item::before, #sk-container-id-2 div.sk-parallel-item::before {content: \"\";position: absolute;border-left: 1px solid gray;box-sizing: border-box;top: 0;bottom: 0;left: 50%;z-index: -1;}#sk-container-id-2 div.sk-parallel-item {display: flex;flex-direction: column;z-index: 1;position: relative;background-color: white;}#sk-container-id-2 div.sk-parallel-item:first-child::after {align-self: flex-end;width: 50%;}#sk-container-id-2 div.sk-parallel-item:last-child::after {align-self: flex-start;width: 50%;}#sk-container-id-2 div.sk-parallel-item:only-child::after {width: 0;}#sk-container-id-2 div.sk-dashed-wrapped {border: 1px dashed gray;margin: 0 0.4em 0.5em 0.4em;box-sizing: border-box;padding-bottom: 0.4em;background-color: white;}#sk-container-id-2 div.sk-label label {font-family: monospace;font-weight: bold;display: inline-block;line-height: 1.2em;}#sk-container-id-2 div.sk-label-container {text-align: center;}#sk-container-id-2 div.sk-container {/* jupyter's `normalize.less` sets `[hidden] { display: none; }` but bootstrap.min.css set `[hidden] { display: none !important; }` so we also need the `!important` here to be able to override the default hidden behavior on the sphinx rendered scikit-learn.org. See: https://github.com/scikit-learn/scikit-learn/issues/21755 */display: inline-block !important;position: relative;}#sk-container-id-2 div.sk-text-repr-fallback {display: none;}</style><div id=\"sk-container-id-2\" class=\"sk-top-container\"><div class=\"sk-text-repr-fallback\"><pre>LogisticRegression(max_iter=1000)</pre><b>In a Jupyter environment, please rerun this cell to show the HTML representation or trust the notebook. <br />On GitHub, the HTML representation is unable to render, please try loading this page with nbviewer.org.</b></div><div class=\"sk-container\" hidden><div class=\"sk-item\"><div class=\"sk-estimator sk-toggleable\"><input class=\"sk-toggleable__control sk-hidden--visually\" id=\"sk-estimator-id-2\" type=\"checkbox\" checked><label for=\"sk-estimator-id-2\" class=\"sk-toggleable__label sk-toggleable__label-arrow\">LogisticRegression</label><div class=\"sk-toggleable__content\"><pre>LogisticRegression(max_iter=1000)</pre></div></div></div></div></div>"
      ],
      "text/plain": [
       "LogisticRegression(max_iter=1000)"
      ]
     },
     "execution_count": 15,
     "metadata": {},
     "output_type": "execute_result"
    }
   ],
   "source": [
    "import pandas as pd\n",
    "from sklearn.model_selection import train_test_split\n",
    "from sklearn.linear_model import LogisticRegression\n",
    "from sklearn.preprocessing import LabelEncoder\n",
    "from sklearn.feature_extraction.text import CountVectorizer\n",
    "\n",
    "# Load your dataset\n",
    "data = pd.read_csv('Test_Ethereum_Raw.csv')\n",
    "\n",
    "# Using CountVectorizer to transform hexadecimal strings into a token frequency matrix\n",
    "# The ngram_range can be adjusted to capture different patterns, such as pairs of hex digits\n",
    "vectorizer = CountVectorizer(analyzer='char', ngram_range=(1, 2))\n",
    "X = vectorizer.fit_transform(data['Address'])\n",
    "\n",
    "# Prepare target\n",
    "label_encoder = LabelEncoder()\n",
    "y = label_encoder.fit_transform(data['Label'])  # Ensure labels are 0 and 1\n",
    "\n",
    "# Split the data into training and testing sets\n",
    "X_train, X_test, y_train, y_test = train_test_split(X, y, test_size=0.3, random_state=42)\n",
    "\n",
    "# Initialize and train the Logistic Regression model\n",
    "model = LogisticRegression(max_iter=1000)\n",
    "model.fit(X_train, y_train)"
   ]
  },
  {
   "cell_type": "code",
   "execution_count": 13,
   "id": "1c40d49a",
   "metadata": {
    "scrolled": true
   },
   "outputs": [
    {
     "name": "stdout",
     "output_type": "stream",
     "text": [
      "Original Data:\n",
      "                                            0\n",
      "0  0x8BfA61FF095Ce5882f70beb99d79D4e85F364ae7\n",
      "1  0x00CBF506B6C1a81E7dCAaD2EB1a002504cb1547B\n",
      "2  0x6A25400fBd9c9EFd5d6CD85eFDfF0D799Aa38327\n",
      "3  0x6Ea4Fc9a9e9574763Ccc36340E5fb91037CB2899\n",
      "4  0x76aa1CDb0EA3DcaDA436AAbF4a80C466653C28f9\n",
      "Modified Data:\n",
      "                                                   0\n",
      "0  0x9ea3003b8baa0b9e7ce3fc21c87191d0755585dafffb...\n",
      "1  0x1897b75c07fce87753d396d02e19cbb2b2bedf1465c1...\n",
      "2         0x7edeC34414375172b417533dE03DA6Ce038884bD\n",
      "3         0xFA0D70f6A0BEaF0F40D193b91568c1F2aA059D57\n",
      "4         0x3614fAF3e25246888801C27Cb0B1307b3FFA3cd9\n"
     ]
    }
   ],
   "source": [
    "import random\n",
    "\n",
    "# Load the CSV file\n",
    "df = pd.read_csv('RawTestData.csv', header=None)  # Adjust the path and add `header=None` if the CSV has no header row\n",
    "\n",
    "# Ensure that the DataFrame is reading correctly\n",
    "print(\"Original Data:\")\n",
    "print(df.head())\n",
    "\n",
    "# Randomize the values in the first column\n",
    "randomized_values = df[0].tolist()  # Convert the first column to a list\n",
    "random.shuffle(randomized_values)   # Shuffle the list\n",
    "df[0] = randomized_values           # Assign the shuffled list back to the first column\n",
    "\n",
    "# Save the modified DataFrame back to a CSV file\n",
    "df.to_csv('RandomizedRawTestData.csv', index=False, header=None)  # `header=None` ensures no header row is added in the output\n",
    "\n",
    "print(\"Modified Data:\")\n",
    "print(df.head())\n"
   ]
  },
  {
   "cell_type": "code",
   "execution_count": 17,
   "id": "a649fffb",
   "metadata": {},
   "outputs": [
    {
     "name": "stdout",
     "output_type": "stream",
     "text": [
      "Predictions have been saved to 'path_to_your_predictions_csv_file.csv'.\n"
     ]
    }
   ],
   "source": [
    "# Example of predicting a new dataset\n",
    "new_data = pd.read_csv('RandomizedRawTestData.csv', header=None)\n",
    "new_X = vectorizer.transform(new_data[0])\n",
    "\n",
    "new_predictions = model.predict(new_X)\n",
    "new_data['Predicted Label'] = label_encoder.inverse_transform(new_predictions)  # Add predictions to the dataframe\n",
    "new_data.to_csv('RawPredictions.csv', index=False, header=None)  # Save the predictions to a new CSV\n",
    "\n",
    "print(\"Predictions have been saved to 'RawPredictions.csv'.\")"
   ]
  },
  {
   "cell_type": "code",
   "execution_count": null,
   "id": "be758a81",
   "metadata": {},
   "outputs": [],
   "source": []
  }
 ],
 "metadata": {
  "kernelspec": {
   "display_name": "Python 3 (ipykernel)",
   "language": "python",
   "name": "python3"
  },
  "language_info": {
   "codemirror_mode": {
    "name": "ipython",
    "version": 3
   },
   "file_extension": ".py",
   "mimetype": "text/x-python",
   "name": "python",
   "nbconvert_exporter": "python",
   "pygments_lexer": "ipython3",
   "version": "3.10.13"
  }
 },
 "nbformat": 4,
 "nbformat_minor": 5
}
