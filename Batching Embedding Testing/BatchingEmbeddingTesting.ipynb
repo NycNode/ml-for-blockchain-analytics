{
 "cells": [
  {
   "cell_type": "code",
   "execution_count": 1,
   "id": "478667f9",
   "metadata": {},
   "outputs": [
    {
     "name": "stdout",
     "output_type": "stream",
     "text": [
      "Processing time: 22.43201446533203 seconds\n"
     ]
    }
   ],
   "source": [
    "import csv\n",
    "import openai\n",
    "import time\n",
    "import random\n",
    "import os\n",
    "from dotenv import load_dotenv\n",
    "\n",
    "load_dotenv()\n",
    "api_key = os.getenv('OPENAI_API_KEY')\n",
    "\n",
    "# Initialize OpenAI client with API key\n",
    "client = openai.OpenAI(api_key=api_key)\n",
    "\n",
    "# Input CSV file\n",
    "input_csv = 'ADDRESSmegalist.csv'\n",
    "\n",
    "# Output CSV file\n",
    "output_csv = 'smalloutput.csv'\n",
    "\n",
    "# Define the batch size for embedding requests\n",
    "BATCH_SIZE = 20\n",
    "\n",
    "# Function to embed a batch of texts using OpenAI's embedding model\n",
    "def embed_text_batch(texts):\n",
    "    response = client.embeddings.create(\n",
    "        input=texts,  # The texts to be embedded\n",
    "        model=\"text-embedding-3-small\"  # The model used for embedding\n",
    "    )\n",
    "    return [item.embedding for item in response.data]  # Return the embeddings\n",
    "\n",
    "# Main function to process the CSV file and write results to a new CSV file\n",
    "def main():\n",
    "    start_time = time.time()  # Start benchmarking\n",
    "\n",
    "    # Read the CSV file\n",
    "    with open(input_csv, newline='') as csvfile:\n",
    "        csv_reader = csv.reader(csvfile)\n",
    "        csv_data = list(csv_reader)\n",
    "\n",
    "    # Randomize the rows and select the first 1000\n",
    "    random.shuffle(csv_data)\n",
    "    csv_data = csv_data[:1000]\n",
    "\n",
    "    all_embeddings = []  # List to store all embeddings\n",
    "    all_data = []  # List to store CSV data along with embeddings\n",
    "\n",
    "    addresses = [row[0] for row in csv_data]  # Extract addresses from the first column\n",
    "\n",
    "    # Process addresses in batches\n",
    "    for i in range(0, len(addresses), BATCH_SIZE):\n",
    "        batch = addresses[i:i+BATCH_SIZE]  # Get the current batch of addresses\n",
    "        embeddings = embed_text_batch(batch)  # Generate embeddings for the batch\n",
    "        all_embeddings.extend(embeddings)  # Add embeddings to the list\n",
    "\n",
    "    # Combine original CSV data with embeddings\n",
    "    for row, embedding in zip(csv_data, all_embeddings):\n",
    "        all_data.append(row + [embedding])  # Append the embedding to the row\n",
    "\n",
    "    # Write the data to a new CSV file\n",
    "    with open(output_csv, 'w', newline='') as csvfile:\n",
    "        csv_writer = csv.writer(csvfile)\n",
    "        csv_writer.writerow([\"Address\", \"Other Column\", \"Embedding\"])  # Write the header (adjust columns as needed)\n",
    "        for row in all_data:\n",
    "            csv_writer.writerow(row)\n",
    "\n",
    "    end_time = time.time()  # End benchmarking\n",
    "    print(f\"Processing time: {end_time - start_time} seconds\")\n",
    "\n",
    "if __name__ == \"__main__\":\n",
    "    main()  # Execute the main function\n"
   ]
  },
  {
   "cell_type": "code",
   "execution_count": null,
   "id": "39697653",
   "metadata": {},
   "outputs": [],
   "source": []
  }
 ],
 "metadata": {
  "kernelspec": {
   "display_name": "Python 3 (ipykernel)",
   "language": "python",
   "name": "python3"
  },
  "language_info": {
   "codemirror_mode": {
    "name": "ipython",
    "version": 3
   },
   "file_extension": ".py",
   "mimetype": "text/x-python",
   "name": "python",
   "nbconvert_exporter": "python",
   "pygments_lexer": "ipython3",
   "version": "3.10.13"
  }
 },
 "nbformat": 4,
 "nbformat_minor": 5
}
